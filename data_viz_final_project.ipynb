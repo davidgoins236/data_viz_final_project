{
  "nbformat": 4,
  "nbformat_minor": 0,
  "metadata": {
    "colab": {
      "provenance": [],
      "authorship_tag": "ABX9TyNEsMw2O8bXvtCo2yR1bA4N",
      "include_colab_link": true
    },
    "kernelspec": {
      "name": "python3",
      "display_name": "Python 3"
    },
    "language_info": {
      "name": "python"
    }
  },
  "cells": [
    {
      "cell_type": "markdown",
      "metadata": {
        "id": "view-in-github",
        "colab_type": "text"
      },
      "source": [
        "<a href=\"https://colab.research.google.com/github/davidgoins236/data_viz_final_project/blob/main/data_viz_final_project.ipynb\" target=\"_parent\"><img src=\"https://colab.research.google.com/assets/colab-badge.svg\" alt=\"Open In Colab\"/></a>"
      ]
    },
    {
      "cell_type": "markdown",
      "source": [
        "# Executive Summary"
      ],
      "metadata": {
        "id": "PJWQvwECFvDF"
      }
    },
    {
      "cell_type": "code",
      "execution_count": 10,
      "metadata": {
        "colab": {
          "base_uri": "https://localhost:8080/"
        },
        "id": "hakqVk8-E7KY",
        "outputId": "3ddc7fa1-cca9-4d88-a7a1-277a7f955918"
      },
      "outputs": [
        {
          "output_type": "stream",
          "name": "stdout",
          "text": [
            "Cloning into 'data_viz_final_project'...\n",
            "remote: Enumerating objects: 19, done.\u001b[K\n",
            "remote: Counting objects: 100% (19/19), done.\u001b[K\n",
            "remote: Compressing objects: 100% (19/19), done.\u001b[K\n",
            "remote: Total 19 (delta 1), reused 0 (delta 0), pack-reused 0 (from 0)\u001b[K\n",
            "Receiving objects: 100% (19/19), 6.24 MiB | 3.94 MiB/s, done.\n",
            "Resolving deltas: 100% (1/1), done.\n",
            "/content/data_viz_final_project/data_viz_final_project/data_viz_final_project\n"
          ]
        }
      ],
      "source": [
        "!git clone https://github.com/davidgoins236/data_viz_final_project\n",
        "%cd data_viz_final_project"
      ]
    },
    {
      "cell_type": "code",
      "source": [
        "1+1"
      ],
      "metadata": {
        "colab": {
          "base_uri": "https://localhost:8080/"
        },
        "id": "T1TetHjpG2lo",
        "outputId": "5c741ca8-82d3-4aa6-cf79-cac032f25d53"
      },
      "execution_count": 11,
      "outputs": [
        {
          "output_type": "execute_result",
          "data": {
            "text/plain": [
              "2"
            ]
          },
          "metadata": {},
          "execution_count": 11
        }
      ]
    },
    {
      "cell_type": "code",
      "source": [
        "import pandas as pd\n",
        "import numpy as np\n",
        "import matplotlib.pyplot as plt\n",
        "import seaborn as sns\n",
        "\n",
        "circuits = pd.read_csv('circuits.csv')\n",
        "constructor_results = pd.read_csv('constructor_results.csv')\n",
        "constructor_standings = pd.read_csv('constructor_standings.csv')\n",
        "constructors = pd.read_csv('constructors.csv')\n",
        "driver_standings = pd.read_csv('driver_standings.csv')\n",
        "drivers = pd.read_csv('drivers.csv')\n",
        "lap_times = pd.read_csv('lap_times.csv')\n",
        "pit_stops = pd.read_csv('pit_stops.csv')\n",
        "quali = pd.read_csv('qualifying.csv')\n",
        "races = pd.read_csv('races.csv')\n",
        "results = pd.read_csv('results.csv')\n",
        "seasons = pd.read_csv('seasons.csv')\n",
        "sprint = pd.read_csv('sprint_results.csv')\n",
        "status = pd.read_csv('status.csv')"
      ],
      "metadata": {
        "id": "RUOB-WERFKHR"
      },
      "execution_count": 12,
      "outputs": []
    }
  ]
}